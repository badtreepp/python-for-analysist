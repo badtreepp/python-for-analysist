{
  "nbformat": 4,
  "nbformat_minor": 0,
  "metadata": {
    "colab": {
      "provenance": [],
      "authorship_tag": "ABX9TyMPNJE/CrnGNdFngoNVP56t",
      "include_colab_link": true
    },
    "kernelspec": {
      "name": "python3",
      "display_name": "Python 3"
    },
    "language_info": {
      "name": "python"
    }
  },
  "cells": [
    {
      "cell_type": "markdown",
      "metadata": {
        "id": "view-in-github",
        "colab_type": "text"
      },
      "source": [
        "<a href=\"https://colab.research.google.com/github/badtreepp/python-for-analysist/blob/main/Seminar1.ipynb\" target=\"_parent\"><img src=\"https://colab.research.google.com/assets/colab-badge.svg\" alt=\"Open In Colab\"/></a>"
      ]
    },
    {
      "cell_type": "markdown",
      "source": [],
      "metadata": {
        "id": "H-BJD9SgOkHL"
      }
    },
    {
      "cell_type": "markdown",
      "source": [
        "## Задание 1.\n",
        "### 1.1 Соедините два словаря в один\n",
        "\n",
        "\n"
      ],
      "metadata": {
        "id": "IiEgMSRQPj4E"
      }
    },
    {
      "cell_type": "code",
      "source": [
        "dict1 = {'One': 1, 'Two': 2, 'Three': 3}\n",
        "dict2 = {'Four': 4, 'Five': 5, 'Six': 6}"
      ],
      "metadata": {
        "id": "8hXjTd-qf88h"
      },
      "execution_count": 1,
      "outputs": []
    },
    {
      "cell_type": "code",
      "source": [
        "dict3 = dict1 | dict2\n",
        "dict3"
      ],
      "metadata": {
        "colab": {
          "base_uri": "https://localhost:8080/"
        },
        "id": "houi1Vk9giyo",
        "outputId": "ba4507cc-96a6-47ff-fe94-1cd8c341ca6b"
      },
      "execution_count": 2,
      "outputs": [
        {
          "output_type": "execute_result",
          "data": {
            "text/plain": [
              "{'One': 1, 'Two': 2, 'Three': 3, 'Four': 4, 'Five': 5, 'Six': 6}"
            ]
          },
          "metadata": {},
          "execution_count": 2
        }
      ]
    },
    {
      "cell_type": "code",
      "source": [
        "dict4 = {**dict1, **dict2}\n",
        "dict4"
      ],
      "metadata": {
        "colab": {
          "base_uri": "https://localhost:8080/"
        },
        "id": "u0HqECg7gi6T",
        "outputId": "f50a2276-a5c7-4ca5-fd99-b56b4e844562"
      },
      "execution_count": 3,
      "outputs": [
        {
          "output_type": "execute_result",
          "data": {
            "text/plain": [
              "{'One': 1, 'Two': 2, 'Three': 3, 'Four': 4, 'Five': 5, 'Six': 6}"
            ]
          },
          "metadata": {},
          "execution_count": 3
        }
      ]
    },
    {
      "cell_type": "code",
      "source": [
        "dict5 = dict1.copy()\n",
        "dict5.update(dict2)\n",
        "dict5"
      ],
      "metadata": {
        "colab": {
          "base_uri": "https://localhost:8080/"
        },
        "id": "F-ZYwyAjgjA0",
        "outputId": "1126ba8d-05d5-481c-f5eb-e6f5b6cda9f4"
      },
      "execution_count": 4,
      "outputs": [
        {
          "output_type": "execute_result",
          "data": {
            "text/plain": [
              "{'One': 1, 'Two': 2, 'Three': 3, 'Four': 4, 'Five': 5, 'Six': 6}"
            ]
          },
          "metadata": {},
          "execution_count": 4
        }
      ]
    },
    {
      "cell_type": "markdown",
      "source": [
        "### 1.2 Напишите функцию, которая на вход принимает два словаря и возвращает один объединенный словарь\n",
        "Используйте аннотирование типов:"
      ],
      "metadata": {
        "id": "Ugrwk4G-f-Lv"
      }
    },
    {
      "cell_type": "code",
      "source": [
        "def merge_dict(d1, d2):\n",
        "# print(d2.items())\n",
        "  for k,v in d2.items():\n",
        "    d1[k]=v\n",
        "  return d1\n",
        "\n",
        "merge_dict(dict1, dict2)"
      ],
      "metadata": {
        "colab": {
          "base_uri": "https://localhost:8080/"
        },
        "id": "w2R8VZ86f-g3",
        "outputId": "eab9db35-b9e1-4fc0-9660-8837f20565a7"
      },
      "execution_count": 5,
      "outputs": [
        {
          "output_type": "execute_result",
          "data": {
            "text/plain": [
              "{'One': 1, 'Two': 2, 'Three': 3, 'Four': 4, 'Five': 5, 'Six': 6}"
            ]
          },
          "metadata": {},
          "execution_count": 5
        }
      ]
    },
    {
      "cell_type": "markdown",
      "source": [],
      "metadata": {
        "id": "iOlh6hBXfz6d"
      }
    },
    {
      "cell_type": "markdown",
      "source": [
        "## Задание 2.\n",
        "Напишите функцию, которая из двух списков, делает один словарь, где элементы из первого списка - ключи, а элементы из второго списка - значения\n",
        "\n",
        "keys = ['One', 'Two', 'Three']\n",
        "values = [1, 2, 3]\n",
        "\n",
        "Используйте аннотирование типов\n",
        "\n",
        "### 2.1 Используя цикл for\n"
      ],
      "metadata": {
        "id": "Xz4nnMS7j9Mh"
      }
    },
    {
      "cell_type": "code",
      "source": [
        "keys = ['One', 'Two', 'Three']\n",
        "values = [1, 2, 3]"
      ],
      "metadata": {
        "id": "1FSe47dMkN6Z"
      },
      "execution_count": 6,
      "outputs": []
    },
    {
      "cell_type": "code",
      "source": [
        "def create_dict(k: list[str], v: list[int]) -> dict:\n",
        "  res = {}\n",
        "  for i in range(len(v)):\n",
        "    res[k[i]] = v[i]\n",
        "  return res\n",
        "\n",
        "create_dict(keys, values)\n"
      ],
      "metadata": {
        "colab": {
          "base_uri": "https://localhost:8080/"
        },
        "id": "6FoXlb65kl20",
        "outputId": "8b59cc45-4f13-4eea-aab7-e7def6b99eed"
      },
      "execution_count": 7,
      "outputs": [
        {
          "output_type": "execute_result",
          "data": {
            "text/plain": [
              "{'One': 1, 'Two': 2, 'Three': 3}"
            ]
          },
          "metadata": {},
          "execution_count": 7
        }
      ]
    },
    {
      "cell_type": "markdown",
      "source": [
        "### 2.2 Используя dict comprehensions"
      ],
      "metadata": {
        "id": "eLAjRl6OkOSe"
      }
    },
    {
      "cell_type": "code",
      "source": [
        "res = {keys[i] : values[i] for i in range(len(values))}\n",
        "res"
      ],
      "metadata": {
        "colab": {
          "base_uri": "https://localhost:8080/"
        },
        "id": "DluVMqPokQMP",
        "outputId": "a93bafa1-4499-45d9-fa93-adfd4f5ef32a"
      },
      "execution_count": 8,
      "outputs": [
        {
          "output_type": "execute_result",
          "data": {
            "text/plain": [
              "{'One': 1, 'Two': 2, 'Three': 3}"
            ]
          },
          "metadata": {},
          "execution_count": 8
        }
      ]
    },
    {
      "cell_type": "code",
      "source": [],
      "metadata": {
        "id": "YlYmA9wxoirR"
      },
      "execution_count": 8,
      "outputs": []
    },
    {
      "cell_type": "markdown",
      "source": [
        "## Задание 3.\n",
        "Извлеките только два ключа name и age из представленного словаря\n",
        "\n",
        "### 3.1 Напишите функцию с циклом for\n",
        "Функция на вход принимает:\n",
        "исходный словарь\n",
        "ключи, которые нужно извлечь (аргумент по умолчанию)\n",
        "На выходе словарь с нужными ключами\n",
        "Используйте аннотирование типов\n",
        "### 3.2 Используя dict comprehensions\n"
      ],
      "metadata": {
        "id": "h7rKCN_ca7_6"
      }
    },
    {
      "cell_type": "code",
      "source": [
        "client_dict = {\n",
        "\"name\": \"John\",\n",
        "\"age\": 25,\n",
        "\"salary\": 5000,\n",
        "\"city\": \"Moscow\"\n",
        "}"
      ],
      "metadata": {
        "id": "SZadfTgib_se"
      },
      "execution_count": 9,
      "outputs": []
    },
    {
      "cell_type": "code",
      "source": [
        "def get_keys(data: dict, keys: list=[\"name\", \"age\"]) -> dict:\n",
        "  res = {}\n",
        "  for k in keys:\n",
        "    res[k] = data[k]\n",
        "  return res\n",
        "\n",
        "get_keys(client_dict)"
      ],
      "metadata": {
        "colab": {
          "base_uri": "https://localhost:8080/"
        },
        "id": "NFVFeTGIcqox",
        "outputId": "b6ca3e55-0ce9-4f48-b3c6-7e82b680fb68"
      },
      "execution_count": 10,
      "outputs": [
        {
          "output_type": "execute_result",
          "data": {
            "text/plain": [
              "{'name': 'John', 'age': 25}"
            ]
          },
          "metadata": {},
          "execution_count": 10
        }
      ]
    },
    {
      "cell_type": "code",
      "source": [
        "get_keys(client_dict, [\"salary\", \"city\"])"
      ],
      "metadata": {
        "colab": {
          "base_uri": "https://localhost:8080/"
        },
        "id": "AnTub7gRgU5v",
        "outputId": "c432e8f4-888a-4cb4-fb17-284d7d061426"
      },
      "execution_count": 11,
      "outputs": [
        {
          "output_type": "execute_result",
          "data": {
            "text/plain": [
              "{'salary': 5000, 'city': 'Moscow'}"
            ]
          },
          "metadata": {},
          "execution_count": 11
        }
      ]
    },
    {
      "cell_type": "code",
      "source": [
        "res = {k: client_dict[k] for k in [\"name\", \"age\"]}\n",
        "res"
      ],
      "metadata": {
        "colab": {
          "base_uri": "https://localhost:8080/"
        },
        "id": "mwo27C0fgxW9",
        "outputId": "d6bb38ee-9ac6-4f3d-ea1d-ac69d16180a1"
      },
      "execution_count": 13,
      "outputs": [
        {
          "output_type": "execute_result",
          "data": {
            "text/plain": [
              "{'name': 'John', 'age': 25}"
            ]
          },
          "metadata": {},
          "execution_count": 13
        }
      ]
    },
    {
      "cell_type": "markdown",
      "source": [
        "## Задание 4.\n",
        "### 4.1 Сгенерируйте случайные целые числа от 0 до 100 в количестве 5 штук с помощью модуля random\n",
        "Зафиксируйте псевдогенерацию, чтобы сгенерированные значения всегда были одинаковые\n",
        "Используйте list comprehensions"
      ],
      "metadata": {
        "id": "LQGvymMJwaf3"
      }
    },
    {
      "cell_type": "code",
      "source": [
        "import random"
      ],
      "metadata": {
        "id": "SfQtuAtQwjvN"
      },
      "execution_count": 14,
      "outputs": []
    },
    {
      "cell_type": "code",
      "source": [
        "random.seed(10) #в скобках любое число\n",
        "data = [random.randint(0, 100) for _ in range(5)]\n",
        "data"
      ],
      "metadata": {
        "colab": {
          "base_uri": "https://localhost:8080/"
        },
        "id": "Vo0BqrQewpsX",
        "outputId": "457745fd-cd33-4685-de5e-cb2818ba025e"
      },
      "execution_count": 19,
      "outputs": [
        {
          "output_type": "execute_result",
          "data": {
            "text/plain": [
              "[73, 4, 54, 61, 73]"
            ]
          },
          "metadata": {},
          "execution_count": 19
        }
      ]
    },
    {
      "cell_type": "markdown",
      "source": [
        "## 4.2* Напишите генератор\n",
        "- Генератор на вход принимает список с данными о клиенте (данные из пункта 4.1)\n",
        "- Внутри генератора реализуйте обход по списку с данными\n",
        "\n",
        "На каждой итерации генератор будет возвращать кортеж из двух элементов:\n",
        "- данные по клиенту (в зависимости от итерации, на 0 итерации вернется 0 элемент, на 1 итерации вернется 1 элемент и тд)\n",
        "- целочисленное значение, которое показывает, сколько секунд прошло с предыдущей итерации\n",
        "\n",
        "Примечание: секунды, которые возвращаются должны показывать время не с начала запуска генератора, а именно то время, которое прошло с предыдущей итерации. А значит время на первой итерации должно равняться 0.\n",
        "- Используйте функцию time из модуля time для подсчета времени.\n",
        "- Чтобы проверить работу таймера, запустите проход по генератору в цикле с time.sleep(2)"
      ],
      "metadata": {
        "id": "A7QISSmf8-3L"
      }
    },
    {
      "cell_type": "code",
      "source": [
        "import time"
      ],
      "metadata": {
        "id": "Vq-SQxya9ICL"
      },
      "execution_count": 20,
      "outputs": []
    },
    {
      "cell_type": "code",
      "source": [
        "def elapsed_science(my_data):\n",
        "  # last_time = time.time()\n",
        "  for el in my_data:\n",
        "    cur_time = time.time\n",
        "    yield el, cur_time\n",
        "    print('Следующий запуск генератора')\n",
        "\n",
        "\n",
        "for t in elapsed_science(data):\n",
        "  print(t)\n",
        "  time.sleep(2)"
      ],
      "metadata": {
        "colab": {
          "base_uri": "https://localhost:8080/"
        },
        "id": "DlHJhwxl9osL",
        "outputId": "41e8d17a-8438-477a-daf3-1d23e4b3cbcb"
      },
      "execution_count": 22,
      "outputs": [
        {
          "output_type": "stream",
          "name": "stdout",
          "text": [
            "(73, <built-in function time>)\n",
            "Следующий запуск генератора\n",
            "(4, <built-in function time>)\n",
            "Следующий запуск генератора\n",
            "(54, <built-in function time>)\n",
            "Следующий запуск генератора\n",
            "(61, <built-in function time>)\n",
            "Следующий запуск генератора\n",
            "(73, <built-in function time>)\n",
            "Следующий запуск генератора\n"
          ]
        }
      ]
    }
  ]
}