{
  "nbformat": 4,
  "nbformat_minor": 0,
  "metadata": {
    "colab": {
      "provenance": [],
      "authorship_tag": "ABX9TyPIYSrjoauuYvcAGWhscxHx",
      "include_colab_link": true
    },
    "kernelspec": {
      "name": "python3",
      "display_name": "Python 3"
    },
    "language_info": {
      "name": "python"
    }
  },
  "cells": [
    {
      "cell_type": "markdown",
      "metadata": {
        "id": "view-in-github",
        "colab_type": "text"
      },
      "source": [
        "<a href=\"https://colab.research.google.com/github/badtreepp/python-for-analysist/blob/main/Seminar1.ipynb\" target=\"_parent\"><img src=\"https://colab.research.google.com/assets/colab-badge.svg\" alt=\"Open In Colab\"/></a>"
      ]
    },
    {
      "cell_type": "markdown",
      "source": [],
      "metadata": {
        "id": "H-BJD9SgOkHL"
      }
    },
    {
      "cell_type": "markdown",
      "source": [
        "## Задание 1.\n",
        "### 1.1 Соедините два словаря в один\n",
        "\n",
        "\n"
      ],
      "metadata": {
        "id": "IiEgMSRQPj4E"
      }
    },
    {
      "cell_type": "code",
      "source": [
        "dict1 = {'One': 1, 'Two': 2, 'Three': 3}\n",
        "dict2 = {'Four': 4, 'Five': 5, 'Six': 6}"
      ],
      "metadata": {
        "id": "8hXjTd-qf88h"
      },
      "execution_count": 1,
      "outputs": []
    },
    {
      "cell_type": "code",
      "source": [
        "dict3 = dict1 | dict2\n",
        "dict3"
      ],
      "metadata": {
        "colab": {
          "base_uri": "https://localhost:8080/"
        },
        "id": "houi1Vk9giyo",
        "outputId": "fa56f26b-dc51-44c2-da7c-840d53c36cad"
      },
      "execution_count": 2,
      "outputs": [
        {
          "output_type": "execute_result",
          "data": {
            "text/plain": [
              "{'One': 1, 'Two': 2, 'Three': 3, 'Four': 4, 'Five': 5, 'Six': 6}"
            ]
          },
          "metadata": {},
          "execution_count": 2
        }
      ]
    },
    {
      "cell_type": "code",
      "source": [
        "dict4 = {**dict1, **dict2}\n",
        "dict4"
      ],
      "metadata": {
        "colab": {
          "base_uri": "https://localhost:8080/"
        },
        "id": "u0HqECg7gi6T",
        "outputId": "95dd8c32-cb25-41f8-f76c-ed3128d63481"
      },
      "execution_count": 3,
      "outputs": [
        {
          "output_type": "execute_result",
          "data": {
            "text/plain": [
              "{'One': 1, 'Two': 2, 'Three': 3, 'Four': 4, 'Five': 5, 'Six': 6}"
            ]
          },
          "metadata": {},
          "execution_count": 3
        }
      ]
    },
    {
      "cell_type": "code",
      "source": [
        "dict5 = dict1.copy()\n",
        "dict5.update(dict2)\n",
        "dict5"
      ],
      "metadata": {
        "colab": {
          "base_uri": "https://localhost:8080/"
        },
        "id": "F-ZYwyAjgjA0",
        "outputId": "4d5ce6ed-0204-4230-dd04-1eaa85030d43"
      },
      "execution_count": 4,
      "outputs": [
        {
          "output_type": "execute_result",
          "data": {
            "text/plain": [
              "{'One': 1, 'Two': 2, 'Three': 3, 'Four': 4, 'Five': 5, 'Six': 6}"
            ]
          },
          "metadata": {},
          "execution_count": 4
        }
      ]
    },
    {
      "cell_type": "markdown",
      "source": [
        "### 1.2 Напишите функцию, которая на вход принимает два словаря и возвращает один объединенный словарь\n",
        "Используйте аннотирование типов:"
      ],
      "metadata": {
        "id": "Ugrwk4G-f-Lv"
      }
    },
    {
      "cell_type": "code",
      "source": [
        "def merge_dict(d1, d2):\n",
        "# print(d2.items())\n",
        "  for k,v in d2.items():\n",
        "    d1[k]=v\n",
        "  return d1\n",
        "\n",
        "merge_dict(dict1, dict2)"
      ],
      "metadata": {
        "colab": {
          "base_uri": "https://localhost:8080/"
        },
        "id": "w2R8VZ86f-g3",
        "outputId": "3b902e25-c3df-4c6c-be6a-084e6b806ded"
      },
      "execution_count": 5,
      "outputs": [
        {
          "output_type": "execute_result",
          "data": {
            "text/plain": [
              "{'One': 1, 'Two': 2, 'Three': 3, 'Four': 4, 'Five': 5, 'Six': 6}"
            ]
          },
          "metadata": {},
          "execution_count": 5
        }
      ]
    },
    {
      "cell_type": "markdown",
      "source": [],
      "metadata": {
        "id": "iOlh6hBXfz6d"
      }
    },
    {
      "cell_type": "markdown",
      "source": [
        "## Задание 2.\n",
        "Напишите функцию, которая из двух списков, делает один словарь, где элементы из первого списка - ключи, а элементы из второго списка - значения\n",
        "\n",
        "keys = ['One', 'Two', 'Three']\n",
        "values = [1, 2, 3]\n",
        "\n",
        "Используйте аннотирование типов\n",
        "\n",
        "### 2.1 Используя цикл for\n"
      ],
      "metadata": {
        "id": "Xz4nnMS7j9Mh"
      }
    },
    {
      "cell_type": "code",
      "source": [
        "keys = ['One', 'Two', 'Three']\n",
        "values = [1, 2, 3]"
      ],
      "metadata": {
        "id": "1FSe47dMkN6Z"
      },
      "execution_count": 6,
      "outputs": []
    },
    {
      "cell_type": "code",
      "source": [
        "def create_dict(k: list[str], v: list[int]) -> dict:\n",
        "  res = {}\n",
        "  for i in range(len(v)):\n",
        "    res[k[i]] = v[i]\n",
        "  return res\n",
        "\n",
        "create_dict(keys, values)\n"
      ],
      "metadata": {
        "colab": {
          "base_uri": "https://localhost:8080/"
        },
        "id": "6FoXlb65kl20",
        "outputId": "34a0a536-e87e-4981-9606-2a57c152525f"
      },
      "execution_count": 7,
      "outputs": [
        {
          "output_type": "execute_result",
          "data": {
            "text/plain": [
              "{'One': 1, 'Two': 2, 'Three': 3}"
            ]
          },
          "metadata": {},
          "execution_count": 7
        }
      ]
    },
    {
      "cell_type": "markdown",
      "source": [
        "### 2.2 Используя dict comprehensions"
      ],
      "metadata": {
        "id": "eLAjRl6OkOSe"
      }
    },
    {
      "cell_type": "code",
      "source": [
        "res = {keys[i] : values[i] for i in range(len(values))}\n",
        "res"
      ],
      "metadata": {
        "colab": {
          "base_uri": "https://localhost:8080/"
        },
        "id": "DluVMqPokQMP",
        "outputId": "3d8122d7-95f3-4868-a6b4-c962500d629a"
      },
      "execution_count": 8,
      "outputs": [
        {
          "output_type": "execute_result",
          "data": {
            "text/plain": [
              "{'One': 1, 'Two': 2, 'Three': 3}"
            ]
          },
          "metadata": {},
          "execution_count": 8
        }
      ]
    },
    {
      "cell_type": "code",
      "source": [],
      "metadata": {
        "id": "YlYmA9wxoirR"
      },
      "execution_count": 8,
      "outputs": []
    },
    {
      "cell_type": "markdown",
      "source": [
        "## Задание 3.\n",
        "Извлеките только два ключа name и age из представленного словаря\n",
        "\n",
        "### 3.1 Напишите функцию с циклом for\n",
        "Функция на вход принимает:\n",
        "исходный словарь\n",
        "ключи, которые нужно извлечь (аргумент по умолчанию)\n",
        "На выходе словарь с нужными ключами\n",
        "Используйте аннотирование типов\n",
        "### 3.2 Используя dict comprehensions\n"
      ],
      "metadata": {
        "id": "h7rKCN_ca7_6"
      }
    },
    {
      "cell_type": "code",
      "source": [
        "client_dict = {\n",
        "\"name\": \"John\",\n",
        "\"age\": 25,\n",
        "\"salary\": 5000,\n",
        "\"city\": \"Moscow\"\n",
        "}"
      ],
      "metadata": {
        "id": "SZadfTgib_se"
      },
      "execution_count": 9,
      "outputs": []
    },
    {
      "cell_type": "code",
      "source": [
        "def get_keys(data: dict, keys: list=[\"name\", \"age\"]) -> dict:\n",
        "  res = {}\n",
        "  for k in keys:\n",
        "    res[k] = data[k]\n",
        "  return res\n",
        "\n",
        "get_keys(client_dict)"
      ],
      "metadata": {
        "colab": {
          "base_uri": "https://localhost:8080/"
        },
        "id": "NFVFeTGIcqox",
        "outputId": "7b73bf7d-f110-428f-d560-b2ddb375da77"
      },
      "execution_count": 10,
      "outputs": [
        {
          "output_type": "execute_result",
          "data": {
            "text/plain": [
              "{'name': 'John', 'age': 25}"
            ]
          },
          "metadata": {},
          "execution_count": 10
        }
      ]
    },
    {
      "cell_type": "code",
      "source": [
        "get_keys(client_dict, [\"salary\", \"city\"])"
      ],
      "metadata": {
        "colab": {
          "base_uri": "https://localhost:8080/"
        },
        "id": "AnTub7gRgU5v",
        "outputId": "1d6e7a8a-2c5c-4aaf-c1c7-a55f785f15bd"
      },
      "execution_count": 11,
      "outputs": [
        {
          "output_type": "execute_result",
          "data": {
            "text/plain": [
              "{'salary': 5000, 'city': 'Moscow'}"
            ]
          },
          "metadata": {},
          "execution_count": 11
        }
      ]
    },
    {
      "cell_type": "code",
      "source": [
        "res = {k: client_dict[k] for k in [\"name\", \"age\"]}\n",
        "res"
      ],
      "metadata": {
        "colab": {
          "base_uri": "https://localhost:8080/"
        },
        "id": "mwo27C0fgxW9",
        "outputId": "5f519cc1-5d72-47f0-f52e-8b44964d4bd7"
      },
      "execution_count": 12,
      "outputs": [
        {
          "output_type": "execute_result",
          "data": {
            "text/plain": [
              "{'name': 'John', 'age': 25}"
            ]
          },
          "metadata": {},
          "execution_count": 12
        }
      ]
    },
    {
      "cell_type": "markdown",
      "source": [
        "## Задание 4.\n",
        "### 4.1 Сгенерируйте случайные целые числа от 0 до 100 в количестве 5 штук с помощью модуля random\n",
        "Зафиксируйте псевдогенерацию, чтобы сгенерированные значения всегда были одинаковые\n",
        "Используйте list comprehensions"
      ],
      "metadata": {
        "id": "LQGvymMJwaf3"
      }
    },
    {
      "cell_type": "code",
      "source": [
        "import random"
      ],
      "metadata": {
        "id": "SfQtuAtQwjvN"
      },
      "execution_count": 13,
      "outputs": []
    },
    {
      "cell_type": "code",
      "source": [
        "random.seed(10) #в скобках любое число\n",
        "data = [random.randint(0, 100) for _ in range(5)]\n",
        "data"
      ],
      "metadata": {
        "colab": {
          "base_uri": "https://localhost:8080/"
        },
        "id": "Vo0BqrQewpsX",
        "outputId": "6a0e3834-d672-4551-ce3f-820437d7178d"
      },
      "execution_count": 14,
      "outputs": [
        {
          "output_type": "execute_result",
          "data": {
            "text/plain": [
              "[73, 4, 54, 61, 73]"
            ]
          },
          "metadata": {},
          "execution_count": 14
        }
      ]
    },
    {
      "cell_type": "markdown",
      "source": [
        "## 4.2* Напишите генератор\n",
        "- Генератор на вход принимает список с данными о клиенте (данные из пункта 4.1)\n",
        "- Внутри генератора реализуйте обход по списку с данными\n",
        "\n",
        "На каждой итерации генератор будет возвращать кортеж из двух элементов:\n",
        "- данные по клиенту (в зависимости от итерации, на 0 итерации вернется 0 элемент, на 1 итерации вернется 1 элемент и тд)\n",
        "- целочисленное значение, которое показывает, сколько секунд прошло с предыдущей итерации\n",
        "\n",
        "Примечание: секунды, которые возвращаются должны показывать время не с начала запуска генератора, а именно то время, которое прошло с предыдущей итерации. А значит время на первой итерации должно равняться 0.\n",
        "- Используйте функцию time из модуля time для подсчета времени.\n",
        "- Чтобы проверить работу таймера, запустите проход по генератору в цикле с time.sleep(2)"
      ],
      "metadata": {
        "id": "A7QISSmf8-3L"
      }
    },
    {
      "cell_type": "code",
      "source": [
        "import time"
      ],
      "metadata": {
        "id": "Vq-SQxya9ICL"
      },
      "execution_count": 15,
      "outputs": []
    },
    {
      "cell_type": "code",
      "source": [
        "def elapsed_science(my_data):\n",
        "  last_time = time.time()\n",
        "  for el in my_data:\n",
        "    cur_time = time.time()\n",
        "    diff_time = cur_time - last_time\n",
        "    yield el, int(diff_time)\n",
        "    print('Следующий запуск генератора')\n",
        "    last_time = cur_time\n",
        "\n",
        "\n",
        "for t in elapsed_science(data):\n",
        "  print(t)\n",
        "  time.sleep(2)"
      ],
      "metadata": {
        "colab": {
          "base_uri": "https://localhost:8080/"
        },
        "id": "DlHJhwxl9osL",
        "outputId": "6cb43b18-fef0-4996-c00b-582719413384"
      },
      "execution_count": 18,
      "outputs": [
        {
          "output_type": "stream",
          "name": "stdout",
          "text": [
            "(73, 0)\n",
            "Следующий запуск генератора\n",
            "(4, 2)\n",
            "Следующий запуск генератора\n",
            "(54, 2)\n",
            "Следующий запуск генератора\n",
            "(61, 2)\n",
            "Следующий запуск генератора\n",
            "(73, 2)\n",
            "Следующий запуск генератора\n"
          ]
        }
      ]
    }
  ]
}