{
  "nbformat": 4,
  "nbformat_minor": 0,
  "metadata": {
    "colab": {
      "provenance": [],
      "authorship_tag": "ABX9TyMHwyO5D/46sxP5wOEuEw9K",
      "include_colab_link": true
    },
    "kernelspec": {
      "name": "python3",
      "display_name": "Python 3"
    },
    "language_info": {
      "name": "python"
    }
  },
  "cells": [
    {
      "cell_type": "markdown",
      "metadata": {
        "id": "view-in-github",
        "colab_type": "text"
      },
      "source": [
        "<a href=\"https://colab.research.google.com/github/badtreepp/python-for-analysist/blob/main/Seminar1.ipynb\" target=\"_parent\"><img src=\"https://colab.research.google.com/assets/colab-badge.svg\" alt=\"Open In Colab\"/></a>"
      ]
    },
    {
      "cell_type": "markdown",
      "source": [],
      "metadata": {
        "id": "H-BJD9SgOkHL"
      }
    },
    {
      "cell_type": "markdown",
      "source": [
        "## Задание 1.\n",
        "### 1.1 Соедините два словаря в один\n",
        "\n",
        "\n"
      ],
      "metadata": {
        "id": "IiEgMSRQPj4E"
      }
    },
    {
      "cell_type": "code",
      "source": [
        "dict1 = {'One': 1, 'Two': 2, 'Three': 3}\n",
        "dict2 = {'Four': 4, 'Five': 5, 'Six': 6}"
      ],
      "metadata": {
        "id": "8hXjTd-qf88h"
      },
      "execution_count": 1,
      "outputs": []
    },
    {
      "cell_type": "code",
      "source": [
        "dict3 = dict1 | dict2\n",
        "dict3"
      ],
      "metadata": {
        "colab": {
          "base_uri": "https://localhost:8080/"
        },
        "id": "houi1Vk9giyo",
        "outputId": "43253bff-2b73-443d-f582-6653b180f841"
      },
      "execution_count": 2,
      "outputs": [
        {
          "output_type": "execute_result",
          "data": {
            "text/plain": [
              "{'One': 1, 'Two': 2, 'Three': 3, 'Four': 4, 'Five': 5, 'Six': 6}"
            ]
          },
          "metadata": {},
          "execution_count": 2
        }
      ]
    },
    {
      "cell_type": "code",
      "source": [
        "dict4 = {**dict1, **dict2}\n",
        "dict4"
      ],
      "metadata": {
        "colab": {
          "base_uri": "https://localhost:8080/"
        },
        "id": "u0HqECg7gi6T",
        "outputId": "579e1b2c-6ddc-4b1d-b1b2-267f13905ec8"
      },
      "execution_count": 3,
      "outputs": [
        {
          "output_type": "execute_result",
          "data": {
            "text/plain": [
              "{'One': 1, 'Two': 2, 'Three': 3, 'Four': 4, 'Five': 5, 'Six': 6}"
            ]
          },
          "metadata": {},
          "execution_count": 3
        }
      ]
    },
    {
      "cell_type": "code",
      "source": [
        "dict5 = dict1.copy()\n",
        "dict5.update(dict2)\n",
        "dict5"
      ],
      "metadata": {
        "colab": {
          "base_uri": "https://localhost:8080/"
        },
        "id": "F-ZYwyAjgjA0",
        "outputId": "85d5dd4f-82a4-475f-ff5e-81d3d3be2680"
      },
      "execution_count": 4,
      "outputs": [
        {
          "output_type": "execute_result",
          "data": {
            "text/plain": [
              "{'One': 1, 'Two': 2, 'Three': 3, 'Four': 4, 'Five': 5, 'Six': 6}"
            ]
          },
          "metadata": {},
          "execution_count": 4
        }
      ]
    },
    {
      "cell_type": "markdown",
      "source": [
        "### 1.2 Напишите функцию, которая на вход принимает два словаря и возвращает один объединенный словарь\n",
        "Используйте аннотирование типов:"
      ],
      "metadata": {
        "id": "Ugrwk4G-f-Lv"
      }
    },
    {
      "cell_type": "code",
      "source": [
        "def merge_dict(d1, d2):\n",
        "# print(d2.items())\n",
        "  for k,v in d2.items():\n",
        "    d1[k]=v\n",
        "  return d1\n",
        "\n",
        "merge_dict(dict1, dict2)"
      ],
      "metadata": {
        "colab": {
          "base_uri": "https://localhost:8080/"
        },
        "id": "w2R8VZ86f-g3",
        "outputId": "cf418a41-d80f-49d1-90f9-e0c0389e100d"
      },
      "execution_count": 11,
      "outputs": [
        {
          "output_type": "execute_result",
          "data": {
            "text/plain": [
              "{'One': 1, 'Two': 2, 'Three': 3, 'Four': 4, 'Five': 5, 'Six': 6}"
            ]
          },
          "metadata": {},
          "execution_count": 11
        }
      ]
    },
    {
      "cell_type": "markdown",
      "source": [],
      "metadata": {
        "id": "iOlh6hBXfz6d"
      }
    },
    {
      "cell_type": "markdown",
      "source": [
        "## Задание 2.\n",
        "Напишите функцию, которая из двух списков, делает один словарь, где элементы из первого списка - ключи, а элементы из второго списка - значения\n",
        "\n",
        "keys = ['One', 'Two', 'Three']\n",
        "values = [1, 2, 3]\n",
        "\n",
        "Используйте аннотирование типов\n",
        "\n",
        "### 2.1 Используя цикл for\n"
      ],
      "metadata": {
        "id": "Xz4nnMS7j9Mh"
      }
    },
    {
      "cell_type": "code",
      "source": [
        "keys = ['One', 'Two', 'Three']\n",
        "values = [1, 2, 3]"
      ],
      "metadata": {
        "id": "1FSe47dMkN6Z"
      },
      "execution_count": 13,
      "outputs": []
    },
    {
      "cell_type": "code",
      "source": [
        "def create_dict(k: list[str], v: list[int]) -> dict:\n",
        "  res = {}\n",
        "  for i in range(len(v)):\n",
        "    res[k[i]] = v[i]\n",
        "  return res\n",
        "\n",
        "create_dict(keys, values)\n"
      ],
      "metadata": {
        "colab": {
          "base_uri": "https://localhost:8080/"
        },
        "id": "6FoXlb65kl20",
        "outputId": "a8614cd5-4f1c-4833-8654-84d9d2d6f7a8"
      },
      "execution_count": 14,
      "outputs": [
        {
          "output_type": "execute_result",
          "data": {
            "text/plain": [
              "{'One': 1, 'Two': 2, 'Three': 3}"
            ]
          },
          "metadata": {},
          "execution_count": 14
        }
      ]
    },
    {
      "cell_type": "markdown",
      "source": [
        "### 2.2 Используя dict comprehensions"
      ],
      "metadata": {
        "id": "eLAjRl6OkOSe"
      }
    },
    {
      "cell_type": "code",
      "source": [
        "res = {keys[i] : values[i] for i in range(len(values))}\n",
        "res"
      ],
      "metadata": {
        "colab": {
          "base_uri": "https://localhost:8080/"
        },
        "id": "DluVMqPokQMP",
        "outputId": "22b73cf7-c27d-4a51-928e-2c4d89c7700f"
      },
      "execution_count": 15,
      "outputs": [
        {
          "output_type": "execute_result",
          "data": {
            "text/plain": [
              "{'One': 1, 'Two': 2, 'Three': 3}"
            ]
          },
          "metadata": {},
          "execution_count": 15
        }
      ]
    },
    {
      "cell_type": "code",
      "source": [],
      "metadata": {
        "id": "YlYmA9wxoirR"
      },
      "execution_count": null,
      "outputs": []
    }
  ]
}